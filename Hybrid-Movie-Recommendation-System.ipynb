{
 "cells": [
  {
   "cell_type": "code",
   "execution_count": 9,
   "id": "0c8f8628-6226-4e5f-b362-ab3583bb30e9",
   "metadata": {},
   "outputs": [
    {
     "data": {
      "text/html": [
       "<div>\n",
       "<style scoped>\n",
       "    .dataframe tbody tr th:only-of-type {\n",
       "        vertical-align: middle;\n",
       "    }\n",
       "\n",
       "    .dataframe tbody tr th {\n",
       "        vertical-align: top;\n",
       "    }\n",
       "\n",
       "    .dataframe thead th {\n",
       "        text-align: right;\n",
       "    }\n",
       "</style>\n",
       "<table border=\"1\" class=\"dataframe\">\n",
       "  <thead>\n",
       "    <tr style=\"text-align: right;\">\n",
       "      <th></th>\n",
       "      <th>MovieID</th>\n",
       "      <th>Title</th>\n",
       "      <th>Genres</th>\n",
       "    </tr>\n",
       "  </thead>\n",
       "  <tbody>\n",
       "    <tr>\n",
       "      <th>0</th>\n",
       "      <td>1</td>\n",
       "      <td>Toy Story (1995)</td>\n",
       "      <td>Animation|Children's|Comedy</td>\n",
       "    </tr>\n",
       "    <tr>\n",
       "      <th>1</th>\n",
       "      <td>2</td>\n",
       "      <td>Jumanji (1995)</td>\n",
       "      <td>Adventure|Children's|Fantasy</td>\n",
       "    </tr>\n",
       "    <tr>\n",
       "      <th>2</th>\n",
       "      <td>3</td>\n",
       "      <td>Grumpier Old Men (1995)</td>\n",
       "      <td>Comedy|Romance</td>\n",
       "    </tr>\n",
       "    <tr>\n",
       "      <th>3</th>\n",
       "      <td>4</td>\n",
       "      <td>Waiting to Exhale (1995)</td>\n",
       "      <td>Comedy|Drama</td>\n",
       "    </tr>\n",
       "    <tr>\n",
       "      <th>4</th>\n",
       "      <td>5</td>\n",
       "      <td>Father of the Bride Part II (1995)</td>\n",
       "      <td>Comedy</td>\n",
       "    </tr>\n",
       "  </tbody>\n",
       "</table>\n",
       "</div>"
      ],
      "text/plain": [
       "   MovieID                               Title                        Genres\n",
       "0        1                    Toy Story (1995)   Animation|Children's|Comedy\n",
       "1        2                      Jumanji (1995)  Adventure|Children's|Fantasy\n",
       "2        3             Grumpier Old Men (1995)                Comedy|Romance\n",
       "3        4            Waiting to Exhale (1995)                  Comedy|Drama\n",
       "4        5  Father of the Bride Part II (1995)                        Comedy"
      ]
     },
     "execution_count": 9,
     "metadata": {},
     "output_type": "execute_result"
    }
   ],
   "source": [
    "import pandas as pd\n",
    "\n",
    "# Load movie data\n",
    "movies = pd.read_csv(\"movies.csv\")\n",
    "movies.head()\n"
   ]
  },
  {
   "cell_type": "code",
   "execution_count": 10,
   "id": "8e860b66-a7c5-4d32-90aa-3a7530fdd1be",
   "metadata": {},
   "outputs": [],
   "source": [
    "# Combine genres into a single string per movie (already done)\n",
    "# You can use TF-IDF on genres + title\n",
    "from sklearn.feature_extraction.text import TfidfVectorizer\n",
    "\n",
    "movies['content'] = movies['Title'] + \" \" + movies['Genres'].str.replace('|', ' ')\n",
    "tfidf = TfidfVectorizer(stop_words='english')\n",
    "tfidf_matrix = tfidf.fit_transform(movies['content'])\n"
   ]
  },
  {
   "cell_type": "code",
   "execution_count": 11,
   "id": "a2d26eb0-58bc-4be8-bfc7-6dab5106d431",
   "metadata": {},
   "outputs": [],
   "source": [
    "from sklearn.metrics.pairwise import cosine_similarity\n",
    "\n",
    "cosine_sim = cosine_similarity(tfidf_matrix, tfidf_matrix)\n"
   ]
  },
  {
   "cell_type": "code",
   "execution_count": 8,
   "id": "80ea1c8b-d78d-4096-8b95-1774f81ce983",
   "metadata": {},
   "outputs": [],
   "source": [
    "# Create reverse mapping of titles\n",
    "indices = pd.Series(movies.index, index=movies['Title'])\n",
    "\n",
    "def recommend(title, num=10):\n",
    "    idx = indices[title]\n",
    "    sim_scores = list(enumerate(cosine_sim[idx]))\n",
    "    sim_scores = sorted(sim_scores, key=lambda x: x[1], reverse=True)\n",
    "    sim_scores = sim_scores[1:num+1]\n",
    "    movie_indices = [i[0] for i in sim_scores]\n",
    "    return movies['Title'].iloc[movie_indices]\n"
   ]
  },
  {
   "cell_type": "code",
   "execution_count": 5,
   "id": "0c52e808-b8f5-4824-b78e-afce8b3da37d",
   "metadata": {},
   "outputs": [
    {
     "data": {
      "text/plain": [
       "3045                       Toy Story 2 (1999)\n",
       "3331    We're Back! A Dinosaur's Story (1993)\n",
       "2892                  Story of Us, The (1999)\n",
       "2039                        L.A. Story (1991)\n",
       "12                               Balto (1995)\n",
       "2205                    Lilian's Story (1995)\n",
       "292         Pyromaniac's Love Story, A (1995)\n",
       "236                     Goofy Movie, A (1995)\n",
       "47                          Pocahontas (1995)\n",
       "2490                   King and I, The (1999)\n",
       "Name: Title, dtype: object"
      ]
     },
     "execution_count": 5,
     "metadata": {},
     "output_type": "execute_result"
    }
   ],
   "source": [
    "recommend(\"Toy Story (1995)\")\n"
   ]
  },
  {
   "cell_type": "code",
   "execution_count": 30,
   "id": "0a3abd73-ff8a-4453-bf72-b61e238b172b",
   "metadata": {},
   "outputs": [
    {
     "data": {
      "text/plain": [
       "0                        Toy Story 2 (1999)\n",
       "1                      Bug's Life, A (1998)\n",
       "2                               Antz (1998)\n",
       "3                        Chicken Run (2000)\n",
       "4                    Iron Giant, The (1999)\n",
       "5                            Aladdin (1992)\n",
       "6                             Tarzan (1999)\n",
       "7    Aladdin and the King of Thieves (1996)\n",
       "8                              Mulan (1998)\n",
       "9                 Rugrats Movie, The (1998)\n",
       "Name: Title, dtype: object"
      ]
     },
     "execution_count": 30,
     "metadata": {},
     "output_type": "execute_result"
    }
   ],
   "source": [
    "import pandas as pd\n",
    "from sklearn.feature_extraction.text import TfidfVectorizer\n",
    "from sklearn.metrics.pairwise import cosine_similarity\n",
    "from sklearn.decomposition import TruncatedSVD\n",
    "\n",
    "# Load Data\n",
    "movies = pd.read_csv(\"movies.csv\")          # Should contain MovieID and Title\n",
    "ratings = pd.read_csv(\"ratings.csv\")        # Should contain UserID, MovieID, Rating\n",
    "users = pd.read_csv(\"users.csv\")            # Optional\n",
    "\n",
    "# Merge to include only rated movies\n",
    "rated_movies = movies[movies['MovieID'].isin(ratings['MovieID'].unique())]\n",
    "rated_movies = rated_movies.reset_index(drop=True)\n",
    "\n",
    "# --- Content-Based Filtering ---\n",
    "# Use genres or titles as features. Here, genres are better suited.\n",
    "movies_genres = rated_movies.copy()\n",
    "movies_genres['Genres'] = movies_genres['Genres'].fillna('')\n",
    "\n",
    "tfidf = TfidfVectorizer(stop_words='english')\n",
    "tfidf_matrix = tfidf.fit_transform(movies_genres['Genres'])\n",
    "\n",
    "# Cosine similarity (content-based)\n",
    "cosine_sim = cosine_similarity(tfidf_matrix, tfidf_matrix)\n",
    "\n",
    "# Mapping from movie title to index\n",
    "indices = pd.Series(movies_genres.index, index=movies_genres['Title'])\n",
    "\n",
    "# --- Collaborative Filtering ---\n",
    "# Build user-item matrix\n",
    "user_movie_matrix = ratings.pivot(index='UserID', columns='MovieID', values='Rating')\n",
    "\n",
    "# Transpose to Movie x User and fill missing\n",
    "movie_user_matrix = user_movie_matrix.T.fillna(0)\n",
    "\n",
    "# Truncated SVD\n",
    "svd = TruncatedSVD(n_components=20, random_state=42)\n",
    "movie_svd = svd.fit_transform(movie_user_matrix)\n",
    "\n",
    "# Cosine similarity for collaborative filtering\n",
    "collab_similarity = cosine_similarity(movie_svd)\n",
    "collab_sim_df = pd.DataFrame(collab_similarity, index=movie_user_matrix.index, columns=movie_user_matrix.index)\n",
    "\n",
    "# --- Hybrid Recommendation Function ---\n",
    "def hybrid_recommend(movie_title, top_n=10, alpha=0.5):\n",
    "    if movie_title not in indices:\n",
    "        return f\"'{movie_title}' not found.\"\n",
    "\n",
    "    idx = indices[movie_title]\n",
    "    movie_id = rated_movies.iloc[idx]['MovieID']\n",
    "\n",
    "    # Content-based scores\n",
    "    content_scores = cosine_sim[idx]\n",
    "\n",
    "    # Collaborative scores\n",
    "    if movie_id not in collab_sim_df.index:\n",
    "        return f\"No collaborative filtering data for '{movie_title}'.\"\n",
    "    collab_scores = collab_sim_df.loc[movie_id].values\n",
    "\n",
    "    # Combine scores\n",
    "    hybrid_scores = alpha * content_scores + (1 - alpha) * collab_scores\n",
    "\n",
    "    # Top N recommended indices\n",
    "    movie_indices = hybrid_scores.argsort()[::-1][1:top_n+1]\n",
    "    return rated_movies.iloc[movie_indices]['Title'].reset_index(drop=True)\n",
    "\n",
    "# --- Example Usage ---\n",
    "hybrid_recommend(\"Toy Story (1995)\")\n"
   ]
  },
  {
   "cell_type": "code",
   "execution_count": 31,
   "id": "96de2f0e-8f24-43e4-9a33-3da766ccebc6",
   "metadata": {},
   "outputs": [
    {
     "name": "stdout",
     "output_type": "stream",
     "text": [
      "0         GoodFellas (1990)\n",
      "1       Jackie Brown (1997)\n",
      "2      Donnie Brasco (1997)\n",
      "3    Few Good Men, A (1992)\n",
      "4              Fargo (1996)\n",
      "5      Carlito's Way (1993)\n",
      "6           Rounders (1998)\n",
      "7      Suicide Kings (1997)\n",
      "8           Sleepers (1996)\n",
      "9       Grand Canyon (1991)\n",
      "Name: Title, dtype: object\n",
      "'Shrek (2001)' not found.\n",
      "'The Matrix (1999)' not found.\n"
     ]
    }
   ],
   "source": [
    "print(hybrid_recommend(\"Pulp Fiction (1994)\"))\n",
    "print(hybrid_recommend(\"Shrek (2001)\"))\n",
    "print(hybrid_recommend(\"The Matrix (1999)\"))\n"
   ]
  },
  {
   "cell_type": "code",
   "execution_count": 32,
   "id": "506898c4-3f20-4f6a-a1a1-fa617d42ba26",
   "metadata": {},
   "outputs": [
    {
     "data": {
      "image/png": "[encoded data removed]",
      "text/plain": [
       "<Figure size 1000x500 with 1 Axes>"
      ]
     },
     "metadata": {},
     "output_type": "display_data"
    }
   ],
   "source": [
    "import matplotlib.pyplot as plt\n",
    "\n",
    "def plot_similarity_scores(movie_title, alpha=0.5, top_n=10):\n",
    "    idx = indices[movie_title]\n",
    "    movie_id = rated_movies.iloc[idx]['MovieID']\n",
    "    \n",
    "    content_scores = cosine_sim[idx]\n",
    "    collab_scores = collab_sim_df.loc[movie_id].values\n",
    "    \n",
    "    hybrid_scores = alpha * content_scores + (1 - alpha) * collab_scores\n",
    "    top_indices = hybrid_scores.argsort()[::-1][1:top_n+1]\n",
    "    \n",
    "    recommended_titles = rated_movies.iloc[top_indices]['Title'].values\n",
    "    scores = hybrid_scores[top_indices]\n",
    "    \n",
    "    plt.figure(figsize=(10, 5))\n",
    "    plt.barh(recommended_titles[::-1], scores[::-1])\n",
    "    plt.xlabel(\"Hybrid Score\")\n",
    "    plt.title(f\"Top {top_n} Recommendations for: {movie_title}\")\n",
    "    plt.tight_layout()\n",
    "    plt.show()\n",
    "\n",
    "plot_similarity_scores(\"Toy Story (1995)\")\n"
   ]
  },
  {
   "cell_type": "code",
   "execution_count": null,
   "id": "84e178b3-67dd-48e0-93e8-8fe24e7f8618",
   "metadata": {},
   "outputs": [],
   "source": []
  }
 ],
 "metadata": {
  "kernelspec": {
   "display_name": "Python 3 (ipykernel)",
   "language": "python",
   "name": "python3"
  },
  "language_info": {
   "codemirror_mode": {
    "name": "ipython",
    "version": 3
   },
   "file_extension": ".py",
   "mimetype": "text/x-python",
   "name": "python",
   "nbconvert_exporter": "python",
   "pygments_lexer": "ipython3",
   "version": "3.11.10"
  }
 },
 "nbformat": 4,
 "nbformat_minor": 5
}
